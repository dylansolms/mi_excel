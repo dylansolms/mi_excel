{
 "cells": [
  {
   "cell_type": "markdown",
   "id": "11566750",
   "metadata": {},
   "source": [
    "# Hungry Lion MI Analyst Excel assessment"
   ]
  },
  {
   "cell_type": "code",
   "execution_count": 1,
   "id": "aafe9f57",
   "metadata": {},
   "outputs": [],
   "source": [
    "import pandas as pd\n",
    "import numpy as np\n",
    "import ast\n",
    "import matplotlib.pyplot as plt"
   ]
  },
  {
   "cell_type": "code",
   "execution_count": 4,
   "id": "6baa01a2",
   "metadata": {},
   "outputs": [],
   "source": [
    "data = pd.read_excel('./mi_analyst.xlsx',sheet_name=['data'])['data']"
   ]
  },
  {
   "cell_type": "code",
   "execution_count": 5,
   "id": "6e076cc9",
   "metadata": {},
   "outputs": [
    {
     "data": {
      "text/html": [
       "<div>\n",
       "<style scoped>\n",
       "    .dataframe tbody tr th:only-of-type {\n",
       "        vertical-align: middle;\n",
       "    }\n",
       "\n",
       "    .dataframe tbody tr th {\n",
       "        vertical-align: top;\n",
       "    }\n",
       "\n",
       "    .dataframe thead th {\n",
       "        text-align: right;\n",
       "    }\n",
       "</style>\n",
       "<table border=\"1\" class=\"dataframe\">\n",
       "  <thead>\n",
       "    <tr style=\"text-align: right;\">\n",
       "      <th></th>\n",
       "      <th>Month</th>\n",
       "      <th>country</th>\n",
       "      <th>region</th>\n",
       "      <th>store_name</th>\n",
       "      <th>date</th>\n",
       "      <th>Actual_Sales_TY</th>\n",
       "      <th>Transactions</th>\n",
       "      <th>Daily_Target</th>\n",
       "      <th>Actual_Sales_LY</th>\n",
       "      <th>Days_lost</th>\n",
       "      <th>Target Diff</th>\n",
       "      <th>% To Target</th>\n",
       "      <th>sales_forecast</th>\n",
       "      <th>% to Forecast</th>\n",
       "    </tr>\n",
       "  </thead>\n",
       "  <tbody>\n",
       "    <tr>\n",
       "      <th>0</th>\n",
       "      <td>Sept 2022</td>\n",
       "      <td>NAMIBIA</td>\n",
       "      <td>NAMIBIA SOUTH</td>\n",
       "      <td>WALVISBAY</td>\n",
       "      <td>1 Sept 2022</td>\n",
       "      <td>46597.7375</td>\n",
       "      <td>597</td>\n",
       "      <td>43824</td>\n",
       "      <td>33988.8709</td>\n",
       "      <td>0.0</td>\n",
       "      <td>2773.7375</td>\n",
       "      <td>1.063293</td>\n",
       "      <td>43804</td>\n",
       "      <td>1.062809</td>\n",
       "    </tr>\n",
       "    <tr>\n",
       "      <th>1</th>\n",
       "      <td>Sept 2022</td>\n",
       "      <td>NAMIBIA</td>\n",
       "      <td>NAMIBIA SOUTH</td>\n",
       "      <td>WINDHOEK TOWN SQ</td>\n",
       "      <td>1 Sept 2022</td>\n",
       "      <td>46528.7810</td>\n",
       "      <td>826</td>\n",
       "      <td>44674</td>\n",
       "      <td>31774.0875</td>\n",
       "      <td>0.0</td>\n",
       "      <td>1854.7810</td>\n",
       "      <td>1.041518</td>\n",
       "      <td>44664</td>\n",
       "      <td>1.040802</td>\n",
       "    </tr>\n",
       "    <tr>\n",
       "      <th>2</th>\n",
       "      <td>Sept 2022</td>\n",
       "      <td>NAMIBIA</td>\n",
       "      <td>NAMIBIA SOUTH</td>\n",
       "      <td>MARIENTAL</td>\n",
       "      <td>1 Sept 2022</td>\n",
       "      <td>17987.3045</td>\n",
       "      <td>389</td>\n",
       "      <td>19249</td>\n",
       "      <td>16817.1291</td>\n",
       "      <td>0.0</td>\n",
       "      <td>-1261.6955</td>\n",
       "      <td>0.934454</td>\n",
       "      <td>19232</td>\n",
       "      <td>0.934428</td>\n",
       "    </tr>\n",
       "    <tr>\n",
       "      <th>3</th>\n",
       "      <td>Sept 2022</td>\n",
       "      <td>NAMIBIA</td>\n",
       "      <td>NAMIBIA NORTH</td>\n",
       "      <td>OSHAKATI</td>\n",
       "      <td>1 Sept 2022</td>\n",
       "      <td>49003.3006</td>\n",
       "      <td>744</td>\n",
       "      <td>43838</td>\n",
       "      <td>33918.4356</td>\n",
       "      <td>0.0</td>\n",
       "      <td>5165.3006</td>\n",
       "      <td>1.117827</td>\n",
       "      <td>43854</td>\n",
       "      <td>1.116401</td>\n",
       "    </tr>\n",
       "    <tr>\n",
       "      <th>4</th>\n",
       "      <td>Sept 2022</td>\n",
       "      <td>NAMIBIA</td>\n",
       "      <td>NAMIBIA NORTH</td>\n",
       "      <td>RUNDU MALL</td>\n",
       "      <td>1 Sept 2022</td>\n",
       "      <td>35641.1309</td>\n",
       "      <td>551</td>\n",
       "      <td>39945</td>\n",
       "      <td>34493.5848</td>\n",
       "      <td>0.0</td>\n",
       "      <td>-4303.8691</td>\n",
       "      <td>0.892255</td>\n",
       "      <td>39965</td>\n",
       "      <td>0.890996</td>\n",
       "    </tr>\n",
       "  </tbody>\n",
       "</table>\n",
       "</div>"
      ],
      "text/plain": [
       "       Month  country         region        store_name         date  \\\n",
       "0  Sept 2022  NAMIBIA  NAMIBIA SOUTH         WALVISBAY  1 Sept 2022   \n",
       "1  Sept 2022  NAMIBIA  NAMIBIA SOUTH  WINDHOEK TOWN SQ  1 Sept 2022   \n",
       "2  Sept 2022  NAMIBIA  NAMIBIA SOUTH         MARIENTAL  1 Sept 2022   \n",
       "3  Sept 2022  NAMIBIA  NAMIBIA NORTH          OSHAKATI  1 Sept 2022   \n",
       "4  Sept 2022  NAMIBIA  NAMIBIA NORTH        RUNDU MALL  1 Sept 2022   \n",
       "\n",
       "   Actual_Sales_TY  Transactions  Daily_Target  Actual_Sales_LY  Days_lost  \\\n",
       "0       46597.7375           597         43824       33988.8709        0.0   \n",
       "1       46528.7810           826         44674       31774.0875        0.0   \n",
       "2       17987.3045           389         19249       16817.1291        0.0   \n",
       "3       49003.3006           744         43838       33918.4356        0.0   \n",
       "4       35641.1309           551         39945       34493.5848        0.0   \n",
       "\n",
       "   Target Diff  % To Target  sales_forecast  % to Forecast  \n",
       "0    2773.7375     1.063293           43804       1.062809  \n",
       "1    1854.7810     1.041518           44664       1.040802  \n",
       "2   -1261.6955     0.934454           19232       0.934428  \n",
       "3    5165.3006     1.117827           43854       1.116401  \n",
       "4   -4303.8691     0.892255           39965       0.890996  "
      ]
     },
     "execution_count": 5,
     "metadata": {},
     "output_type": "execute_result"
    }
   ],
   "source": [
    "data.head(5)"
   ]
  },
  {
   "cell_type": "markdown",
   "id": "f6c56dca",
   "metadata": {},
   "source": [
    "### Question 1\n",
    "Which store has the highest absolute difference between the Actual_Sales_TY and sales_forecast fields for September 2022?"
   ]
  },
  {
   "cell_type": "code",
   "execution_count": 54,
   "id": "55701123",
   "metadata": {},
   "outputs": [],
   "source": [
    "store_name = None\n",
    "best_delta = - np.inf\n",
    "unique_names = set(data['store_name'])\n",
    "for name in unique_names:\n",
    "    sub_data = data[(data['Month']=='Sept 2022') & (data['store_name'] == name)]\n",
    "    delta = abs(sub_data['Actual_Sales_TY'].sum() - sub_data['sales_forecast'].sum())\n",
    "    if delta > best_delta:\n",
    "        store_name = name\n",
    "        best_delta = delta"
   ]
  },
  {
   "cell_type": "code",
   "execution_count": 55,
   "id": "1ff8bbd7",
   "metadata": {},
   "outputs": [
    {
     "name": "stdout",
     "output_type": "stream",
     "text": [
      "The store with the largest difference of 426405.51609999966 in September 2022 is MARK PARK.\n"
     ]
    }
   ],
   "source": [
    "print('The store with the largest difference of {0} in September 2022 is {1}.'.format(best_delta,store_name))"
   ]
  },
  {
   "cell_type": "markdown",
   "id": "42b7ecc4",
   "metadata": {},
   "source": [
    "### Question 2\n",
    "For the month of October 2022 which region has the lowest value for year on year Actual_Sales growth?"
   ]
  },
  {
   "cell_type": "code",
   "execution_count": 42,
   "id": "fe4b2433",
   "metadata": {},
   "outputs": [
    {
     "name": "stdout",
     "output_type": "stream",
     "text": [
      "The region with the worst total growth of -11544.217499999795 is WCAPE GARDENROUTE\n"
     ]
    }
   ],
   "source": [
    "regions = set(data['region'])\n",
    "worst_region = None\n",
    "worst_growth = np.inf\n",
    "for region in regions:\n",
    "    sub_data = data[(data['Month'] == 'Oct 2022') & (data['region'] == region)]\n",
    "    region_growth = sub_data['Actual_Sales_TY'].sum() - sub_data['Actual_Sales_LY'].sum()\n",
    "    if region_growth < worst_growth:\n",
    "        worst_region = region\n",
    "        worst_growth = region_growth\n",
    "print('The region with the worst total growth of {0} is {1}'.format(worst_growth,worst_region))  "
   ]
  },
  {
   "cell_type": "markdown",
   "id": "fbd88b4a",
   "metadata": {},
   "source": [
    "#### NOTE: \n",
    "I assumed growth to be a difference between sales and not a rate. The rate solution follows:"
   ]
  },
  {
   "cell_type": "code",
   "execution_count": 57,
   "id": "7cdeaca0",
   "metadata": {},
   "outputs": [
    {
     "name": "stdout",
     "output_type": "stream",
     "text": [
      "The region with the worst total growth of -0.6567028133855118% is WCAPE GARDENROUTE\n"
     ]
    }
   ],
   "source": [
    "regions = set(data['region'])\n",
    "worst_region = None\n",
    "worst_growth = np.inf\n",
    "for region in regions:\n",
    "    sub_data = data[(data['Month'] == 'Oct 2022') & (data['region'] == region)]\n",
    "    region_growth = sub_data['Actual_Sales_TY'].sum() - sub_data['Actual_Sales_LY'].sum()\n",
    "    region_growth /= sub_data['Actual_Sales_LY'].sum()  # converts it into a growth rate\n",
    "    region_growth *= 100 # converts it into a percentage rate of growth\n",
    "    if region_growth < worst_growth:\n",
    "        worst_region = region\n",
    "        worst_growth = region_growth\n",
    "print('The region with the worst total growth of {0}% is {1}'.format(worst_growth,worst_region)) "
   ]
  },
  {
   "cell_type": "markdown",
   "id": "a2f004ce",
   "metadata": {},
   "source": [
    "When using percentage growth, the to answers remain the same. This is coincidence, however, as the two methods are not mathematically equivalent such that this outcome cannot be guaranteed. It is good to report both figures."
   ]
  },
  {
   "cell_type": "markdown",
   "id": "384ddc33",
   "metadata": {},
   "source": [
    "### Question 3\n",
    "Which Store has the highest overall Actual_Sales contribution to Actual_Sales_TY for the two months?"
   ]
  },
  {
   "cell_type": "code",
   "execution_count": 37,
   "id": "c5b4af4c",
   "metadata": {},
   "outputs": [
    {
     "name": "stdout",
     "output_type": "stream",
     "text": [
      "The store with the best contribution of 6058551.6921999585 is KABWE\n"
     ]
    }
   ],
   "source": [
    "unique_names = set(data['store_name'])\n",
    "best_contribution = - np.inf\n",
    "store_name = None\n",
    "for name in unique_names:\n",
    "    sub_data = data[(data['store_name']==name)]\n",
    "    total = sub_data['Actual_Sales_TY'].sum()\n",
    "    if total > best_contribution:\n",
    "        store_name = name\n",
    "        best_contribution = total\n",
    "print('The store with the best contribution of {0} is {1}'.format(best_contribution,store_name))"
   ]
  },
  {
   "cell_type": "markdown",
   "id": "63365dc1",
   "metadata": {},
   "source": [
    "#### NOTE: \n",
    "I have assumed contribution to be an absolute value and not a percentage contribution in the above calculation. The two approaches are mathematically equivalent though. However, a percentage would be nicer for presentation purposes."
   ]
  },
  {
   "cell_type": "markdown",
   "id": "8f8326b5",
   "metadata": {},
   "source": [
    "### Question 4\n",
    "Assuming the ATV (Average Transaction Value) can be calculated as Actual_Sales_TY / Transactions. Which store had the largest month on month difference in ATV Between September and October?"
   ]
  },
  {
   "cell_type": "code",
   "execution_count": 61,
   "id": "3b8ed0b0",
   "metadata": {},
   "outputs": [
    {
     "name": "stdout",
     "output_type": "stream",
     "text": [
      "The store with the largest month-on-month atv difference is BOITEKONG with a value of 144.78562391906326\n"
     ]
    }
   ],
   "source": [
    "best_store = None\n",
    "best_atv_diff = - np.inf\n",
    "unique_names = set(data['store_name'])\n",
    "for name in unique_names:\n",
    "    october = data[(data['store_name'] == name) & (data['Month'] == 'Oct 2022')]\n",
    "    sept = data[(data['store_name'] == name) & (data['Month'] == 'Sept 2022')]\n",
    "    try:\n",
    "        oct_atv = october['Actual_Sales_TY'].sum()/october['Transactions'].sum()\n",
    "    except KeyError:\n",
    "        continue\n",
    "    try:\n",
    "        sept_atv = sept['Actual_Sales_TY'].sum()/october['Transactions'].sum()\n",
    "    except KeyError:\n",
    "        continue\n",
    "    atv_diff = abs(oct_atv - sept_atv)\n",
    "    #atv_diff = oct_atv - sept_atv\n",
    "    if atv_diff > best_atv_diff:\n",
    "        best_store = name\n",
    "        best_atv_diff = atv_diff\n",
    "print('The store with the largest month-on-month atv difference is {0} with a value of {1}'.format(best_store,best_atv_diff))"
   ]
  },
  {
   "cell_type": "markdown",
   "id": "14bff0ac",
   "metadata": {},
   "source": [
    "#### NOTE:\n",
    "In the above calculation, I calculated the store ATV for the month by first summing up 'Actual_Sales_TY' for each month and then dividing it by the total 'Transactions' for that month. This is as opposed to calculating the ATV for each day of the month for a store and then summing that up. Such a calculation would have a different interpretation."
   ]
  },
  {
   "cell_type": "markdown",
   "id": "adbd710f",
   "metadata": {},
   "source": [
    "#### NOTE:\n",
    "I have calculated the month-on-month difference as ``` atv_diff = abs(oct_atv - sept_atv)``` which goes opposed to ```atv_diff = oct_atv - sept_atv```. This means I only looked at the magnitude of the difference between the two months and not the sign/direction. In other, words I did not look at whether October was less than September which would result in a negative ATV. If we are interested in both sign and magnitude then ```HEBRON MALL``` is the answer as opposed to ```BOITEKONG```."
   ]
  }
 ],
 "metadata": {
  "kernelspec": {
   "display_name": "Python 3 (ipykernel)",
   "language": "python",
   "name": "python3"
  },
  "language_info": {
   "codemirror_mode": {
    "name": "ipython",
    "version": 3
   },
   "file_extension": ".py",
   "mimetype": "text/x-python",
   "name": "python",
   "nbconvert_exporter": "python",
   "pygments_lexer": "ipython3",
   "version": "3.10.9"
  }
 },
 "nbformat": 4,
 "nbformat_minor": 5
}
